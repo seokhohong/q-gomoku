{
 "cells": [
  {
   "cell_type": "code",
   "execution_count": null,
   "metadata": {},
   "outputs": [],
   "source": [
    "import numpy as np\n",
    "from keras.layers import Input, Convolution2D, Dense, Dropout, Flatten, concatenate, BatchNormalization\n",
    "from keras.models import Model  # basic class for specifying and training a neural network\n",
    "from keras import losses\n",
    "import keras\n",
    "import tensorflow as tf"
   ]
  },
  {
   "cell_type": "code",
   "execution_count": null,
   "metadata": {},
   "outputs": [],
   "source": [
    "model = Sequential()\n",
    "model.add(Input(shape=(self.size, self.size, 1)))\n",
    "model.add(Convolution2D(64, (3, 3), padding='same', use_bias=False))\n",
    "model.add(BatchNormalization())\n",
    "model.add()\n",
    "model.add(Dense(30, activation='relu', kernel_initializer='random_normal', use_bias=False))"
   ]
  },
  {
   "cell_type": "code",
   "execution_count": null,
   "metadata": {},
   "outputs": [],
   "source": [
    "inp = \n",
    "\n",
    "        # key difference between this and conv network is padding\n",
    "        conv_1 = Convolution2D(64, (3, 3), padding='same', activation='relu',\n",
    "                               kernel_initializer='random_normal', use_bias=False)(inp)\n",
    "        bn2 = BatchNormalization()(conv_1)\n",
    "        conv_2 = Convolution2D(64, (3, 3), padding='same', activation='relu',\n",
    "                               kernel_initializer='random_normal', use_bias=False)(bn2)\n",
    "        bn3 = BatchNormalization()(conv_2)\n",
    "        conv_3 = Convolution2D(64, (3, 3), padding='same', activation='relu',\n",
    "                               kernel_initializer='random_normal', use_bias=False)(bn3)\n",
    "        bn4 = BatchNormalization()(conv_3)\n",
    "\n",
    "        flat = Flatten()(bn4)\n",
    "        turn_input = Input(shape=(1,), name='turn')\n",
    "        full = concatenate([flat, turn_input])\n",
    "\n",
    "        hidden = (full)\n",
    "        bn5 = BatchNormalization()(hidden)\n",
    "\n",
    "        return inp, turn_input, bn5"
   ]
  }
 ],
 "metadata": {
  "kernelspec": {
   "display_name": "Python [hseokho.q-gomoku]",
   "language": "python",
   "name": "hseokho.q-gomoku"
  },
  "language_info": {
   "codemirror_mode": {
    "name": "ipython",
    "version": 3
   },
   "file_extension": ".py",
   "mimetype": "text/x-python",
   "name": "python",
   "nbconvert_exporter": "python",
   "pygments_lexer": "ipython3",
   "version": "3.6.6"
  }
 },
 "nbformat": 4,
 "nbformat_minor": 2
}