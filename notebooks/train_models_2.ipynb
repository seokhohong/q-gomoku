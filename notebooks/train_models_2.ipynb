{
 "cells": [
  {
   "cell_type": "code",
   "execution_count": null,
   "metadata": {},
   "outputs": [],
   "source": [
    "import numpy as np\n",
    "from keras.layers import Input, Convolution2D, Dense, Dropout, Flatten, concatenate, BatchNormalization\n",
    "from keras.models import Model  # basic class for specifying and training a neural network\n",
    "from keras import losses\n",
    "import keras\n",
    "\n",
    "import tensorflow as tf"
   ]
  },
  {
   "cell_type": "code",
   "execution_count": null,
   "metadata": {},
   "outputs": [],
   "source": [
    "SIZE = 9\n",
    "CHANNELS = 4"
   ]
  },
  {
   "cell_type": "code",
   "execution_count": null,
   "metadata": {},
   "outputs": [],
   "source": [
    "npz = np.load('gomoku/models/9_vectors.npz')\n",
    "train_p_vectors = npz['train_p_vectors']\n",
    "train_q_vectors = npz['train_q_vectors']\n",
    "train_p = npz['train_p']\n",
    "train_q = npz['train_q']"
   ]
  },
  {
   "cell_type": "code",
   "execution_count": null,
   "metadata": {},
   "outputs": [],
   "source": [
    "inp = Input(shape=(SIZE, SIZE, CHANNELS))\n",
    "\n",
    "# key difference between this and conv network is padding\n",
    "conv_1 = Convolution2D(64, (3, 3), padding='same', activation='relu',\n",
    "                       kernel_initializer='random_normal', use_bias=False)(inp)\n",
    "bn2 = BatchNormalization()(conv_1)\n",
    "conv_2 = Convolution2D(32, (3, 3), padding='valid', activation='relu',\n",
    "                       kernel_initializer='random_normal', use_bias=False)(bn2)\n",
    "bn3 = BatchNormalization()(conv_2)\n",
    "conv_3 = Convolution2D(32, (3, 3), padding='valid', activation='relu',\n",
    "                       kernel_initializer='random_normal', use_bias=False)(bn3)\n",
    "bn4 = BatchNormalization()(conv_3)\n",
    "conv_4 = Convolution2D(16, (3, 3), padding='valid', activation='relu',\n",
    "                       kernel_initializer='random_normal', use_bias=False)(bn4)\n",
    "bn5 = BatchNormalization()(conv_4)\n",
    "conv_5 = Convolution2D(8, (3, 3), padding='valid', activation='relu',\n",
    "                       kernel_initializer='random_normal', use_bias=False)(bn5)\n",
    "bn6 = BatchNormalization()(conv_5)\n",
    "\n",
    "flat = Flatten()(bn5)\n",
    "\n",
    "hidden = Dense(10, activation='relu', kernel_initializer='random_normal', use_bias=False)(flat)\n",
    "bn_final = BatchNormalization()(hidden)\n",
    "\n",
    "out = Dense(1, use_bias=False)(bn_final)\n",
    "\n",
    "q_model = Model(inputs=[inp], outputs=out)\n",
    "q_model.compile(loss=losses.mean_squared_error, optimizer='adam', metrics=['mean_squared_error'])\n"
   ]
  },
  {
   "cell_type": "code",
   "execution_count": null,
   "metadata": {},
   "outputs": [],
   "source": [
    "q_model.fit(train_q_vectors,\n",
    "            train_q, \n",
    "            shuffle=True,\n",
    "            epochs=1000,\n",
    "            batch_size=100,\n",
    "            validation_split=0.1)"
   ]
  },
  {
   "cell_type": "code",
   "execution_count": null,
   "metadata": {},
   "outputs": [],
   "source": [
    "q_model.save('gomoku/models/waiting_q.model')"
   ]
  },
  {
   "cell_type": "code",
   "execution_count": null,
   "metadata": {
    "collapsed": true
   },
   "outputs": [],
   "source": [
    "inp = Input(shape=(SIZE, SIZE, CHANNELS))\n",
    "\n",
    "conv_1 = Convolution2D(64, (3, 3), padding='same', activation='relu',\n",
    "                       kernel_initializer='random_normal', use_bias=False)(inp)\n",
    "bn2 = BatchNormalization()(conv_1)\n",
    "conv_2 = Convolution2D(32, (3, 3), padding='same', activation='relu',\n",
    "                       kernel_initializer='random_normal', use_bias=False)(bn2)\n",
    "bn3 = BatchNormalization()(conv_2)\n",
    "conv_3 = Convolution2D(16, (3, 3), padding='same', activation='relu',\n",
    "                       kernel_initializer='random_normal', use_bias=False)(bn3)\n",
    "bn4 = BatchNormalization()(conv_3)\n",
    "conv_4 = Convolution2D(8, (3, 3), padding='same', activation='relu',\n",
    "                       kernel_initializer='random_normal', use_bias=False)(bn4)\n",
    "bn5 = BatchNormalization()(conv_4)\n",
    "#conv_5 = Convolution2D(64, (3, 3), padding='same', activation='relu',\n",
    "#                       kernel_initializer='random_uniform')(bn5)\n",
    "#bn6 = BatchNormalization()(conv_5)\n",
    "\n",
    "flat = Flatten()(bn5)\n",
    "\n",
    "hidden = Dense(SIZE ** 2, activation='relu', kernel_initializer='random_normal', use_bias=False)(flat)\n",
    "bn_final = BatchNormalization()(hidden)\n",
    "\n",
    "out = Dense(SIZE ** 2, activation='softmax')(bn_final)\n",
    "\n",
    "p_model = Model(inputs=[inp], outputs=out)\n",
    "p_model.compile(loss='categorical_crossentropy', optimizer='adam', metrics=['accuracy'])\n"
   ]
  },
  {
   "cell_type": "code",
   "execution_count": null,
   "metadata": {},
   "outputs": [],
   "source": [
    "with tf.device('/gpu:0'):\n",
    "    p_model.fit(train_p_vectors, \n",
    "                train_p,\n",
    "                shuffle=True,\n",
    "                batch_size=100,\n",
    "              epochs=100,\n",
    "             validation_split=0.1)"
   ]
  },
  {
   "cell_type": "code",
   "execution_count": null,
   "metadata": {
    "collapsed": true
   },
   "outputs": [],
   "source": [
    "p_model.save('models/9_9_p_v2_2.net')"
   ]
  },
  {
   "cell_type": "code",
   "execution_count": null,
   "metadata": {
    "collapsed": true
   },
   "outputs": [],
   "source": []
  }
 ],
 "metadata": {
  "kernelspec": {
   "display_name": "Python 3",
   "language": "python",
   "name": "python3"
  },
  "language_info": {
   "codemirror_mode": {
    "name": "ipython",
    "version": 3
   },
   "file_extension": ".py",
   "mimetype": "text/x-python",
   "name": "python",
   "nbconvert_exporter": "python",
   "pygments_lexer": "ipython3",
   "version": "3.6.4"
  }
 },
 "nbformat": 4,
 "nbformat_minor": 2
}