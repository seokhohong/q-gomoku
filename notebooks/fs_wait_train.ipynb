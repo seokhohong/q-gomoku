{
 "cells": [
  {
   "cell_type": "code",
   "execution_count": null,
   "metadata": {},
   "outputs": [],
   "source": [
    "import numpy as np\n",
    "from keras.layers import Input, Convolution2D, Dense, Dropout, Flatten, concatenate, BatchNormalization\n",
    "from keras.models import Model  # basic class for specifying and training a neural network\n",
    "from keras import losses\n",
    "import keras\n",
    "from keras.callbacks import EarlyStopping\n",
    "\n",
    "import tensorflow as tf\n",
    "\n",
    "import os.path\n",
    "import time"
   ]
  },
  {
   "cell_type": "code",
   "execution_count": null,
   "metadata": {},
   "outputs": [],
   "source": [
    "SIZE = 9\n",
    "WIN_CHAIN_LENGTH = 5\n",
    "CHANNELS = 4\n",
    "EPOCHS = 100\n",
    "BATCH_SIZE = 100\n",
    "GAME_BATCH = 500\n",
    "\n",
    "VECTORS_NPZ = 'gomoku/models/waiting_vectors.npz'\n",
    "VECTORS_COMPLETE = 'gomoku/models/waiting_vectors_complete'\n",
    "P_MODEL = \"gomoku/models/waiting_p.model\"\n",
    "Q_MODEL = \"gomoku/models/waiting_q.model\"\n",
    "MODEL_COMPLETE = 'gomoku/models/waiting_models_complete'\n",
    "\n",
    "PATIENCE = 3"
   ]
  },
  {
   "cell_type": "code",
   "execution_count": null,
   "metadata": {},
   "outputs": [],
   "source": [
    "def wait_to_read(file_path):\n",
    "    while not os.path.exists(file_path):\n",
    "        time.sleep(1)\n",
    "\n",
    "    if os.path.isfile(file_path):\n",
    "        return\n",
    "    else:\n",
    "        raise ValueError(\"%s isn't a file!\" % file_path)\n",
    "\n",
    "\n",
    "# In[4]:\n"
   ]
  },
  {
   "cell_type": "code",
   "execution_count": null,
   "metadata": {},
   "outputs": [],
   "source": [
    "\n",
    "\n",
    "def train_model(npz):\n",
    "    \n",
    "    q_model = keras.models.load_model(Q_MODEL)\n",
    "    p_model = keras.models.load_model(P_MODEL)\n",
    "    \n",
    "    print('Loaded Models')\n",
    "    \n",
    "    train_p_vectors = npz['train_p_vectors']\n",
    "    train_q_vectors = npz['train_q_vectors']\n",
    "    train_p = npz['train_p']\n",
    "    train_q = npz['train_q']\n",
    "    \n",
    "    print('Num p', len(train_p_vectors))\n",
    "    print('Num q', len(train_q_vectors))\n",
    "\n",
    "    with(tf.device('/gpu:0')):\n",
    "        if len(train_p_vectors) > 0:\n",
    "            q_model.fit(x=train_q_vectors,\n",
    "                        y=train_q,\n",
    "                        shuffle=True,\n",
    "                        callbacks=[EarlyStopping(patience=PATIENCE)],\n",
    "                        validation_split = 0.1,\n",
    "                        batch_size=BATCH_SIZE,\n",
    "                        epochs=EPOCHS)\n",
    "            # doesn't always need to train P\n",
    "            p_model.fit(x=train_p_vectors,\n",
    "                        y=train_p,\n",
    "                        shuffle=True,\n",
    "                        callbacks=[EarlyStopping(patience=PATIENCE)],\n",
    "                        validation_split = 0.1,\n",
    "                        batch_size=BATCH_SIZE,\n",
    "                        epochs=EPOCHS)\n",
    "    \n",
    "    q_model.save(Q_MODEL)\n",
    "    p_model.save(P_MODEL)\n",
    "\n",
    "    with open(MODEL_COMPLETE, 'w') as f:\n",
    "        f.write('')\n",
    "    \n",
    "    print('Models Complete')\n",
    "    \n",
    "    del q_model\n",
    "    del p_model"
   ]
  },
  {
   "cell_type": "code",
   "execution_count": null,
   "metadata": {
    "scrolled": true
   },
   "outputs": [],
   "source": [
    "while True:\n",
    "    wait_to_read(VECTORS_COMPLETE)\n",
    "    print(\"Simulations Complete\")\n",
    "    npz = np.load(VECTORS_NPZ)\n",
    "    train_model(npz)\n",
    "    os.remove(VECTORS_COMPLETE)\n",
    "    os.remove(VECTORS_NPZ)"
   ]
  },
  {
   "cell_type": "code",
   "execution_count": null,
   "metadata": {},
   "outputs": [],
   "source": [
    "from tensorflow.python.client import device_lib\n",
    "print(device_lib.list_local_devices())"
   ]
  },
  {
   "cell_type": "code",
   "execution_count": null,
   "metadata": {},
   "outputs": [],
   "source": [
    "train_q[0]"
   ]
  },
  {
   "cell_type": "code",
   "execution_count": null,
   "metadata": {
    "collapsed": true
   },
   "outputs": [],
   "source": [
    "q_model = keras.models.load_model(Q_MODEL)\n",
    "p_model = keras.models.load_model(P_MODEL)"
   ]
  },
  {
   "cell_type": "code",
   "execution_count": null,
   "metadata": {},
   "outputs": [],
   "source": [
    "q_model.summary()"
   ]
  },
  {
   "cell_type": "code",
   "execution_count": null,
   "metadata": {
    "collapsed": true
   },
   "outputs": [],
   "source": []
  }
 ],
 "metadata": {
  "kernelspec": {
   "display_name": "Python [default]",
   "language": "python",
   "name": "python3"
  },
  "language_info": {
   "codemirror_mode": {
    "name": "ipython",
    "version": 3
   },
   "file_extension": ".py",
   "mimetype": "text/x-python",
   "name": "python",
   "nbconvert_exporter": "python",
   "pygments_lexer": "ipython3",
   "version": "3.6.4"
  }
 },
 "nbformat": 4,
 "nbformat_minor": 2
}