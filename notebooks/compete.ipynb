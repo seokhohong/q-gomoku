{
 "cells": [
  {
   "cell_type": "code",
   "execution_count": null,
   "metadata": {},
   "outputs": [],
   "source": [
    "from learner.pexp_mind import PExpMind\n",
    "import core, models\n",
    "from copy import deepcopy\n",
    "from collections import defaultdict\n",
    "import random\n",
    "from core.board import Board\n",
    "\n",
    "import numpy as np\n",
    "\n",
    "from pyspark.sql import Row\n",
    "import pyspark.sql.functions as F"
   ]
  },
  {
   "cell_type": "code",
   "execution_count": null,
   "metadata": {
    "collapsed": true
   },
   "outputs": [],
   "source": [
    "def init_random_board():\n",
    "    good_board = False\n",
    "    while not good_board:\n",
    "        round_board = Board(size=SIZE, win_chain_length=WIN_CHAIN_LENGTH)\n",
    "        \n",
    "        # randomize the board a bit\n",
    "        for j in range(random.randint(0, int(SIZE * 2.5))):\n",
    "            round_board.make_random_move()\n",
    "            if round_board.game_over():\n",
    "                break\n",
    "                \n",
    "        if not round_board.game_over():\n",
    "            good_board = True\n",
    "                \n",
    "    return round_board\n",
    "\n",
    "def versus(mind1_name, mind2_name, flipped):\n",
    "    mind1 = PExpMind(size=SIZE, init=False, channels=CHANNELS)\n",
    "    mind1.load_net('/hdfs/app/GCS_ANA/dsxusers/hseokho/q-gomoku/gomoku/models/9_4_4')\n",
    "    #mind1.value_est.set_weights(broadcast_net_bc[mind1_name].get_weights()[0])     \n",
    "    #mind1.policy_est.set_weights(broadcast_net_bc[mind1_name].get_weights()[1])    \n",
    "\n",
    "    mind2 = PExpMind(size=SIZE, init=False, channels=CHANNELS)\n",
    "    mind2.load_net('/hdfs/app/GCS_ANA/dsxusers/hseokho/q-gomoku/gomoku/models/9_8_14_18')\n",
    "    #mind1.value_est.set_weights(broadcast_net_bc[mind2_name].get_weights()[0])     \n",
    "    #mind1.policy_est.set_weights(broadcast_net_bc[mind2_name].get_weights()[1])    \n",
    "\n",
    "    board = init_random_board()\n",
    "    \n",
    "    def expanding_p(depth, p):\n",
    "        return np.logical_or(np.logical_or(\n",
    "            np.logical_and(depth < 4, p > -5),\n",
    "            np.logical_and(depth < 6, p > -4),\n",
    "            np.logical_and(depth < 8, p > -4)),\n",
    "            np.logical_and(depth < np.inf, p > -3)\n",
    "        )\n",
    "\n",
    "    def permissive_expansion(depth):\n",
    "        if depth < 2:\n",
    "            return np.inf\n",
    "        if depth < 8:\n",
    "            return 5\n",
    "        return 3\n",
    "    \n",
    "    for mind in [mind1, mind2]:\n",
    "        mind.define_policies(expanding_p, permissive_expansion, convergence_count=5,\n",
    "                     alpha=0.2, q_exp_batch_size=SIZE ** 2,\n",
    "                     p_exp_batch_size=SIZE ** 3, required_depth=6, max_iters=20)\n",
    "        \n",
    "    players = {}\n",
    "    players[Board.FIRST_PLAYER] = mind1\n",
    "    players[Board.SECOND_PLAYER] = mind2\n",
    "    board_strings = []\n",
    "    wins = {Board.FIRST_PLAYER : 0, Board.SECOND_PLAYER: 0}\n",
    "    draws = 0\n",
    "\n",
    "    while True:\n",
    "        result = players[board.get_player_to_move()].make_move(board, \n",
    "                                                         as_player=board.get_player_to_move(),\n",
    "                                                         verbose=False)\n",
    "        board_strings.append(board.pprint())\n",
    "        \n",
    "        if result:\n",
    "            if board.game_won():\n",
    "                if board.get_player_to_move() == Board.FIRST_PLAYER:\n",
    "                    wins[board.SECOND_PLAYER] += 1\n",
    "                else:\n",
    "                    wins[board.FIRST_PLAYER] += 1\n",
    "            else:\n",
    "                draws += 1\n",
    "            break\n",
    "\n",
    "    return Row(**{'boards' : board_strings, \n",
    "                  'wins_1': wins[Board.FIRST_PLAYER], \n",
    "                  'wins_2' : wins[Board.SECOND_PLAYER], \n",
    "                  'draws' : draws, \n",
    "                  'flipped' : flipped})\n",
    "\n",
    "SIZE = 9\n",
    "CHANNELS = 4\n",
    "WIN_CHAIN_LENGTH = 5"
   ]
  },
  {
   "cell_type": "code",
   "execution_count": null,
   "metadata": {},
   "outputs": [],
   "source": [
    "rounds = 100\n",
    "\n",
    "mind1_name = 'old_9_4_4'\n",
    "mind2_name = 'new_9_4'\n",
    "\n",
    "df = sc.parallelize([(i, (mind1_name, mind2_name, True)) for i in range(rounds)]) \\\n",
    "        .union(sc.parallelize([(i, (mind2_name, mind1_name, False)) for i in range(rounds, rounds * 2)])) \\\n",
    "        .partitionBy(rounds * 2, lambda x: x) \\\n",
    "        .map(lambda x : versus(x[1][0], x[1][1], x[1][2])).toDF()\n",
    "\n",
    "#print('Mind 1 Wins / Mind 2 Wins / Draws', wins[1], wins[-1], draws)"
   ]
  },
  {
   "cell_type": "code",
   "execution_count": null,
   "metadata": {},
   "outputs": [],
   "source": [
    "df.write.saveAsTable('dsx_temp.sim_results', mode='overwrite')"
   ]
  },
  {
   "cell_type": "code",
   "execution_count": null,
   "metadata": {},
   "outputs": [],
   "source": [
    "spark.table('dsx_temp.sim_results').where(F.col('flipped')).agg(F.sum('draws'), F.sum('wins_1'), F.sum('wins_2')).collect()"
   ]
  },
  {
   "cell_type": "code",
   "execution_count": null,
   "metadata": {},
   "outputs": [],
   "source": [
    "spark.table('dsx_temp.sim_results').where(~F.col('flipped')).agg(F.sum('draws'), F.sum('wins_1'), F.sum('wins_2')).collect()"
   ]
  },
  {
   "cell_type": "code",
   "execution_count": null,
   "metadata": {
    "collapsed": true
   },
   "outputs": [],
   "source": []
  }
 ],
 "metadata": {
  "kernelspec": {
   "display_name": "Python [hseokho.q-gomoku]",
   "language": "python",
   "name": "hseokho.q-gomoku"
  }
 },
 "nbformat": 4,
 "nbformat_minor": 2
}