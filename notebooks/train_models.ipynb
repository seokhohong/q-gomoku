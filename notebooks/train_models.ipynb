{
 "cells": [
  {
   "cell_type": "code",
   "execution_count": 34,
   "metadata": {},
   "outputs": [],
   "source": [
    "import numpy as np\n",
    "from keras.layers import Input, Convolution2D, Dense, Dropout, Flatten, concatenate, BatchNormalization\n",
    "from keras.models import Model  # basic class for specifying and training a neural network\n",
    "from keras import losses\n",
    "import keras\n",
    "from keras import callbacks\n",
    "\n",
    "from collections import defaultdict\n",
    "\n",
    "import tensorflow as tf\n",
    "from src.learner.game_to_features import FeatureSet_v1_1\n",
    "from src.core.game_record import GameRecord\n",
    "from src.core.board import Board"
   ]
  },
  {
   "cell_type": "code",
   "execution_count": 14,
   "metadata": {},
   "outputs": [
    {
     "name": "stdout",
     "output_type": "stream",
     "text": [
      "gs://itd-aia-ds-dproc-staging/q-gomoku/\r\n",
      "gs://itd-aia-ds-dproc-staging/q-gomoku/.gitignore\r\n",
      "gs://itd-aia-ds-dproc-staging/q-gomoku/LICENSE\r\n",
      "gs://itd-aia-ds-dproc-staging/q-gomoku/Makefile\r\n",
      "gs://itd-aia-ds-dproc-staging/q-gomoku/README\r\n",
      "gs://itd-aia-ds-dproc-staging/q-gomoku/__init__.py\r\n",
      "gs://itd-aia-ds-dproc-staging/q-gomoku/environment.yml\r\n",
      "gs://itd-aia-ds-dproc-staging/q-gomoku/fs_wait_train.py\r\n",
      "gs://itd-aia-ds-dproc-staging/q-gomoku/.git/\r\n",
      "gs://itd-aia-ds-dproc-staging/q-gomoku/.idea/\r\n",
      "gs://itd-aia-ds-dproc-staging/q-gomoku/conf/\r\n",
      "gs://itd-aia-ds-dproc-staging/q-gomoku/games2019-06-20-00-00-00/\r\n",
      "gs://itd-aia-ds-dproc-staging/q-gomoku/games2019-06-20-00:00:00/\r\n",
      "gs://itd-aia-ds-dproc-staging/q-gomoku/games2019-06-20-06-37-51/\r\n",
      "gs://itd-aia-ds-dproc-staging/q-gomoku/games2019-06-20-06-43-09/\r\n",
      "gs://itd-aia-ds-dproc-staging/q-gomoku/games2019-06-20-16-05-49/\r\n",
      "gs://itd-aia-ds-dproc-staging/q-gomoku/games2019-06-20-21-30/\r\n",
      "gs://itd-aia-ds-dproc-staging/q-gomoku/games2019-06-20-21-31/\r\n",
      "gs://itd-aia-ds-dproc-staging/q-gomoku/games2019-06-20-21-47/\r\n",
      "gs://itd-aia-ds-dproc-staging/q-gomoku/games2019-06-21-00-50/\r\n",
      "gs://itd-aia-ds-dproc-staging/q-gomoku/games2019-06-22-07-59/\r\n",
      "gs://itd-aia-ds-dproc-staging/q-gomoku/games2019-06-22-08-18/\r\n",
      "gs://itd-aia-ds-dproc-staging/q-gomoku/games2019-06-22-18-47/\r\n",
      "gs://itd-aia-ds-dproc-staging/q-gomoku/games2019-06-22-18-49/\r\n",
      "gs://itd-aia-ds-dproc-staging/q-gomoku/games2019-06-22-18-50/\r\n",
      "gs://itd-aia-ds-dproc-staging/q-gomoku/games2019-06-22-18-51/\r\n",
      "gs://itd-aia-ds-dproc-staging/q-gomoku/games_1/\r\n",
      "gs://itd-aia-ds-dproc-staging/q-gomoku/notebooks/\r\n",
      "gs://itd-aia-ds-dproc-staging/q-gomoku/src/\r\n",
      "gs://itd-aia-ds-dproc-staging/q-gomoku/trained_models/\r\n"
     ]
    }
   ],
   "source": [
    "!gsutil ls gs://itd-aia-ds-dproc-staging/q-gomoku/"
   ]
  },
  {
   "cell_type": "code",
   "execution_count": 15,
   "metadata": {},
   "outputs": [],
   "source": [
    "def make_features(row):\n",
    "    gamestring = row.gamestring\n",
    "    fs = FeatureSet_v1_1(gamestring)\n",
    "    return zip(fs.q_features, fs.q_labels, fs.p_features, fs.p_labels)\n",
    "\n",
    "gamestrings = spark.read.parquet('gs://itd-aia-ds-dproc-staging/q-gomoku/games2019-06-22-18-51/').rdd.map(lambda x : x.gamestring).collect()\n",
    "\n",
    "#q_features, q_labels, p_features, p_labels =\\\n",
    "#    map(list, zip(*spark.read.parquet('gs://itd-aia-ds-dproc-staging/q-gomoku/games2019-06-22-08-18/').repartition(10) \\\n",
    "#    .rdd.flatMap(make_features))).collect()"
   ]
  },
  {
   "cell_type": "code",
   "execution_count": 21,
   "metadata": {},
   "outputs": [],
   "source": [
    "step = 2"
   ]
  },
  {
   "cell_type": "code",
   "execution_count": 38,
   "metadata": {},
   "outputs": [],
   "source": [
    "q_features = []\n",
    "q_labels = []\n",
    "p_features = []\n",
    "p_labels = []\n",
    "game_records = []\n",
    "for gamestring in gamestrings:\n",
    "    fs = FeatureSet_v1_1(gamestring)\n",
    "    game_records.append(GameRecord.parse(gamestring))\n",
    "    q_features.extend(fs.q_features)\n",
    "    q_labels.extend(fs.q_labels)\n",
    "    p_features.extend(fs.p_features)\n",
    "    p_labels.extend(fs.p_labels)"
   ]
  },
  {
   "cell_type": "code",
   "execution_count": 39,
   "metadata": {},
   "outputs": [
    {
     "name": "stdout",
     "output_type": "stream",
     "text": [
      "Games 500 Results defaultdict(<class 'int'>, {1: 260, 2: 240}) Q_features 67880\n"
     ]
    }
   ],
   "source": [
    "results = defaultdict(int)\n",
    "\n",
    "for record in game_records:\n",
    "    results[record.get_winning_player()] += 1\n",
    "    \n",
    "print(\"Games\", len(gamestrings), \"Results\", results, \"Q_features\", len(q_features))"
   ]
  },
  {
   "cell_type": "code",
   "execution_count": 18,
   "metadata": {},
   "outputs": [],
   "source": [
    "SIZE = q_features[0].shape[0]\n",
    "CHANNELS = q_features[0].shape[2]"
   ]
  },
  {
   "cell_type": "code",
   "execution_count": 19,
   "metadata": {},
   "outputs": [],
   "source": [
    "inp = Input(shape=(SIZE, SIZE, CHANNELS))\n",
    "\n",
    "# key difference between this and conv network is padding\n",
    "conv_1 = Convolution2D(64, (3, 3), padding='valid', activation='relu',\n",
    "                       kernel_initializer='random_normal', use_bias=False)(inp)\n",
    "bn2 = BatchNormalization()(conv_1)\n",
    "conv_2 = Convolution2D(32, (3, 3), padding='valid', activation='relu',\n",
    "                       kernel_initializer='random_normal', use_bias=False)(bn2)\n",
    "bn3 = BatchNormalization()(conv_2)\n",
    "conv_3 = Convolution2D(16, (3, 3), padding='valid', activation='relu',\n",
    "                       kernel_initializer='random_normal', use_bias=False)(bn3)\n",
    "bn4 = BatchNormalization()(conv_3)\n",
    "conv_4 = Convolution2D(16, (3, 3), padding='valid', activation='relu',\n",
    "                       kernel_initializer='random_normal', use_bias=False)(bn4)\n",
    "bn5 = BatchNormalization()(conv_4)\n",
    "conv_5 = Convolution2D(8, (3, 3), padding='valid', activation='relu',\n",
    "                       kernel_initializer='random_normal', use_bias=False)(bn4)\n",
    "bn6 = BatchNormalization()(conv_5)\n",
    "\n",
    "flat = Flatten()(bn3)\n",
    "\n",
    "hidden = Dense(10, activation='relu', kernel_initializer='random_normal', use_bias=False)(flat)\n",
    "#bn_hidden = BatchNormalization()(hidden)\n",
    "#hidden_2 = Dense(50, activation='relu', kernel_initializer='random_normal', use_bias=False)(bn_hidden)\n",
    "bn_final = BatchNormalization()(hidden)\n",
    "\n",
    "out = Dense(1, use_bias=False)(bn_final)\n",
    "\n",
    "q_model = Model(inputs=[inp], outputs=out)\n",
    "q_model.compile(loss=losses.mean_squared_error, optimizer='adam', metrics=['mean_squared_error'])\n"
   ]
  },
  {
   "cell_type": "code",
   "execution_count": 22,
   "metadata": {},
   "outputs": [
    {
     "name": "stdout",
     "output_type": "stream",
     "text": [
      "Train on 61092 samples, validate on 6788 samples\n",
      "Epoch 1/100\n",
      "61092/61092 [==============================] - 2s 32us/step - loss: 0.2014 - mean_squared_error: 0.2014 - val_loss: 0.1014 - val_mean_squared_error: 0.1014\n",
      "Epoch 2/100\n",
      "61092/61092 [==============================] - 1s 15us/step - loss: 0.0299 - mean_squared_error: 0.0299 - val_loss: 0.0467 - val_mean_squared_error: 0.0467\n",
      "\n",
      "Epoch 00002: val_loss improved from inf to 0.04673, saving model to ../models/v2_2_value.net\n",
      "Epoch 3/100\n",
      "61092/61092 [==============================] - 1s 15us/step - loss: 0.0235 - mean_squared_error: 0.0235 - val_loss: 0.0394 - val_mean_squared_error: 0.0394\n",
      "Epoch 4/100\n",
      "61092/61092 [==============================] - 1s 15us/step - loss: 0.0217 - mean_squared_error: 0.0217 - val_loss: 0.0405 - val_mean_squared_error: 0.0405\n",
      "\n",
      "Epoch 00004: val_loss improved from 0.04673 to 0.04048, saving model to ../models/v2_2_value.net\n",
      "Epoch 5/100\n",
      "61092/61092 [==============================] - 1s 15us/step - loss: 0.0201 - mean_squared_error: 0.0201 - val_loss: 0.0430 - val_mean_squared_error: 0.0430\n",
      "Epoch 00005: early stopping\n"
     ]
    }
   ],
   "source": [
    "es = callbacks.EarlyStopping(monitor='val_loss', mode='min', verbose=1, patience=2)\n",
    "checkpoint = callbacks.ModelCheckpoint('../models/v2_' + str(step) + '_value.net', monitor='val_loss', verbose=1, save_best_only=True, mode='min', period=2)\n",
    "callback_list = [es, checkpoint]\n",
    "\n",
    "with tf.device('/gpu:0'):\n",
    "    q_model.fit(x=np.array(q_features), \n",
    "                y=q_labels,\n",
    "                callbacks=callback_list,\n",
    "                shuffle=True,\n",
    "                epochs=100,\n",
    "                verbose=1,\n",
    "                batch_size=500,\n",
    "                validation_split=0.1)"
   ]
  },
  {
   "cell_type": "code",
   "execution_count": 23,
   "metadata": {},
   "outputs": [],
   "source": [
    "inp = Input(shape=(SIZE, SIZE, CHANNELS))\n",
    "\n",
    "conv_1 = Convolution2D(64, (3, 3), padding='same', activation='relu',\n",
    "                       kernel_initializer='random_normal', use_bias=False)(inp)\n",
    "bn2 = BatchNormalization()(conv_1)\n",
    "conv_2 = Convolution2D(64, (3, 3), padding='same', activation='relu',\n",
    "                       kernel_initializer='random_normal', use_bias=False)(bn2)\n",
    "bn3 = BatchNormalization()(conv_2)\n",
    "conv_3 = Convolution2D(64, (3, 3), padding='same', activation='relu',\n",
    "                       kernel_initializer='random_normal', use_bias=False)(bn3)\n",
    "bn4 = BatchNormalization()(conv_3)\n",
    "conv_4 = Convolution2D(32, (3, 3), padding='same', activation='relu',\n",
    "                       kernel_initializer='random_normal', use_bias=False)(bn4)\n",
    "bn5 = BatchNormalization()(conv_4)\n",
    "conv_5 = Convolution2D(16, (3, 3), padding='same', activation='relu',\n",
    "                       kernel_initializer='random_normal', use_bias=False)(bn5)\n",
    "bn6 = BatchNormalization()(conv_5)\n",
    "\n",
    "flat = Flatten()(bn6)\n",
    "\n",
    "hidden = Dense(SIZE ** 2, activation='relu', kernel_initializer='random_normal', use_bias=False)(flat)\n",
    "bn_final = BatchNormalization()(hidden)\n",
    "\n",
    "out = Dense(SIZE ** 2, activation='softmax')(bn_final)\n",
    "\n",
    "p_model = Model(inputs=[inp], outputs=out)\n",
    "p_model.compile(loss='sparse_categorical_crossentropy', optimizer='adam', metrics=['accuracy'])\n"
   ]
  },
  {
   "cell_type": "code",
   "execution_count": 24,
   "metadata": {},
   "outputs": [
    {
     "name": "stdout",
     "output_type": "stream",
     "text": [
      "Train on 61092 samples, validate on 6788 samples\n",
      "Epoch 1/100\n",
      "61092/61092 [==============================] - 3s 53us/step - loss: 4.3136 - acc: 0.0379 - val_loss: 4.2392 - val_acc: 0.0439\n",
      "Epoch 2/100\n",
      "61092/61092 [==============================] - 1s 24us/step - loss: 4.0901 - acc: 0.0637 - val_loss: 4.2300 - val_acc: 0.0560\n",
      "\n",
      "Epoch 00002: val_loss improved from inf to 4.23001, saving model to ../models/v2_2_policy.net\n",
      "Epoch 3/100\n",
      "61092/61092 [==============================] - 1s 24us/step - loss: 3.9245 - acc: 0.0900 - val_loss: 4.1683 - val_acc: 0.0603\n",
      "Epoch 4/100\n",
      "61092/61092 [==============================] - 1s 24us/step - loss: 3.7512 - acc: 0.1169 - val_loss: 4.2128 - val_acc: 0.0601\n",
      "\n",
      "Epoch 00004: val_loss improved from 4.23001 to 4.21277, saving model to ../models/v2_2_policy.net\n",
      "Epoch 5/100\n",
      "61092/61092 [==============================] - 1s 24us/step - loss: 3.5684 - acc: 0.1493 - val_loss: 4.2473 - val_acc: 0.0607\n",
      "Epoch 00005: early stopping\n"
     ]
    }
   ],
   "source": [
    "es = callbacks.EarlyStopping(monitor='val_loss', mode='min', verbose=1, patience=2)\n",
    "checkpoint = callbacks.ModelCheckpoint('../models/v2_' + str(step) + '_policy.net', monitor='val_loss', verbose=1, save_best_only=True, mode='min', period=2)\n",
    "callback_list = [es, checkpoint]\n",
    "\n",
    "with tf.device('/gpu:0'):\n",
    "    p_model.fit(x=np.array(p_features), \n",
    "                y=np.array(p_labels),\n",
    "                callbacks=callback_list,\n",
    "                shuffle=True,\n",
    "                epochs=100,\n",
    "                verbose=1,\n",
    "                batch_size=500,\n",
    "                validation_split=0.1)"
   ]
  },
  {
   "cell_type": "code",
   "execution_count": null,
   "metadata": {
    "collapsed": true
   },
   "outputs": [],
   "source": []
  }
 ],
 "metadata": {
  "kernelspec": {
   "display_name": "Python 3",
   "language": "python",
   "name": "python3"
  },
  "language_info": {
   "codemirror_mode": {
    "name": "ipython",
    "version": 3
   },
   "file_extension": ".py",
   "mimetype": "text/x-python",
   "name": "python",
   "nbconvert_exporter": "python",
   "pygments_lexer": "ipython3",
   "version": "3.6.5"
  }
 },
 "nbformat": 4,
 "nbformat_minor": 2
}
