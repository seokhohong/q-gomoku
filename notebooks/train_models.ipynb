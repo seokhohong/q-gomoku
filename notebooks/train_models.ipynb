{
 "cells": [
  {
   "cell_type": "code",
   "execution_count": 2,
   "metadata": {},
   "outputs": [],
   "source": [
    "import numpy as np\n",
    "from keras.layers import Input, Convolution2D, Dense, Dropout, Flatten, concatenate, BatchNormalization\n",
    "from keras.models import Model  # basic class for specifying and training a neural network\n",
    "from keras import losses\n",
    "import keras\n",
    "from keras import callbacks\n",
    "\n",
    "import tensorflow as tf\n",
    "from src.learner.game_to_features import FeatureSet_v1_1"
   ]
  },
  {
   "cell_type": "code",
   "execution_count": 3,
   "metadata": {
    "collapsed": true
   },
   "outputs": [
    {
     "name": "stdout",
     "output_type": "stream",
     "text": [
      "gs://itd-aia-ds-dproc-staging/q-gomoku/\r\n",
      "gs://itd-aia-ds-dproc-staging/q-gomoku/.gitignore\r\n",
      "gs://itd-aia-ds-dproc-staging/q-gomoku/LICENSE\r\n",
      "gs://itd-aia-ds-dproc-staging/q-gomoku/Makefile\r\n",
      "gs://itd-aia-ds-dproc-staging/q-gomoku/README\r\n",
      "gs://itd-aia-ds-dproc-staging/q-gomoku/__init__.py\r\n",
      "gs://itd-aia-ds-dproc-staging/q-gomoku/environment.yml\r\n",
      "gs://itd-aia-ds-dproc-staging/q-gomoku/fs_wait_train.py\r\n",
      "gs://itd-aia-ds-dproc-staging/q-gomoku/.git/\r\n",
      "gs://itd-aia-ds-dproc-staging/q-gomoku/.idea/\r\n",
      "gs://itd-aia-ds-dproc-staging/q-gomoku/conf/\r\n",
      "gs://itd-aia-ds-dproc-staging/q-gomoku/games2019-06-20-00-00-00/\r\n",
      "gs://itd-aia-ds-dproc-staging/q-gomoku/games2019-06-20-00:00:00/\r\n",
      "gs://itd-aia-ds-dproc-staging/q-gomoku/games2019-06-20-06-37-51/\r\n",
      "gs://itd-aia-ds-dproc-staging/q-gomoku/games2019-06-20-06-43-09/\r\n",
      "gs://itd-aia-ds-dproc-staging/q-gomoku/games2019-06-20-16-05-49/\r\n",
      "gs://itd-aia-ds-dproc-staging/q-gomoku/games2019-06-20-21-30/\r\n",
      "gs://itd-aia-ds-dproc-staging/q-gomoku/games2019-06-20-21-31/\r\n",
      "gs://itd-aia-ds-dproc-staging/q-gomoku/games2019-06-20-21-47/\r\n",
      "gs://itd-aia-ds-dproc-staging/q-gomoku/games2019-06-21-00-50/\r\n",
      "gs://itd-aia-ds-dproc-staging/q-gomoku/games2019-06-22-07-59/\r\n",
      "gs://itd-aia-ds-dproc-staging/q-gomoku/games2019-06-22-08-18/\r\n",
      "gs://itd-aia-ds-dproc-staging/q-gomoku/games_1/\r\n",
      "gs://itd-aia-ds-dproc-staging/q-gomoku/notebooks/\r\n",
      "gs://itd-aia-ds-dproc-staging/q-gomoku/src/\r\n",
      "gs://itd-aia-ds-dproc-staging/q-gomoku/trained_models/\r\n"
     ]
    }
   ],
   "source": [
    "!gsutil ls gs://itd-aia-ds-dproc-staging/q-gomoku/"
   ]
  },
  {
   "cell_type": "code",
   "execution_count": 3,
   "metadata": {},
   "outputs": [],
   "source": [
    "def make_features(row):\n",
    "    gamestring = row.gamestring\n",
    "    fs = FeatureSet_v1_1(gamestring)\n",
    "    return zip(fs.q_features, fs.q_labels, fs.p_features, fs.p_labels)\n",
    "\n",
    "gamestrings = spark.read.parquet('gs://itd-aia-ds-dproc-staging/q-gomoku/games2019-06-22-08-18/').rdd.map(lambda x : x.gamestring).collect()\n",
    "\n",
    "#q_features, q_labels, p_features, p_labels =\\\n",
    "#    map(list, zip(*spark.read.parquet('gs://itd-aia-ds-dproc-staging/q-gomoku/games2019-06-22-08-18/').repartition(10) \\\n",
    "#    .rdd.flatMap(make_features))).collect()"
   ]
  },
  {
   "cell_type": "code",
   "execution_count": 4,
   "metadata": {},
   "outputs": [],
   "source": [
    "q_features = []\n",
    "q_labels = []\n",
    "p_features = []\n",
    "p_labels = []\n",
    "for gamestring in gamestrings:\n",
    "    fs = FeatureSet_v1_1(gamestring)\n",
    "    q_features.extend(fs.q_features)\n",
    "    q_labels.extend(fs.q_labels)\n",
    "    p_features.extend(fs.p_features)\n",
    "    p_labels.extend(fs.p_labels)"
   ]
  },
  {
   "cell_type": "code",
   "execution_count": 5,
   "metadata": {},
   "outputs": [],
   "source": [
    "SIZE = q_features[0].shape[0]\n",
    "CHANNELS = q_features[0].shape[2]"
   ]
  },
  {
   "cell_type": "code",
   "execution_count": 6,
   "metadata": {},
   "outputs": [],
   "source": [
    "inp = Input(shape=(SIZE, SIZE, CHANNELS))\n",
    "\n",
    "# key difference between this and conv network is padding\n",
    "conv_1 = Convolution2D(64, (3, 3), padding='valid', activation='relu',\n",
    "                       kernel_initializer='random_normal', use_bias=False)(inp)\n",
    "bn2 = BatchNormalization()(conv_1)\n",
    "conv_2 = Convolution2D(32, (3, 3), padding='valid', activation='relu',\n",
    "                       kernel_initializer='random_normal', use_bias=False)(bn2)\n",
    "bn3 = BatchNormalization()(conv_2)\n",
    "conv_3 = Convolution2D(16, (3, 3), padding='valid', activation='relu',\n",
    "                       kernel_initializer='random_normal', use_bias=False)(bn3)\n",
    "bn4 = BatchNormalization()(conv_3)\n",
    "conv_4 = Convolution2D(16, (3, 3), padding='valid', activation='relu',\n",
    "                       kernel_initializer='random_normal', use_bias=False)(bn4)\n",
    "bn5 = BatchNormalization()(conv_4)\n",
    "conv_5 = Convolution2D(8, (3, 3), padding='valid', activation='relu',\n",
    "                       kernel_initializer='random_normal', use_bias=False)(bn4)\n",
    "bn6 = BatchNormalization()(conv_5)\n",
    "\n",
    "flat = Flatten()(bn3)\n",
    "\n",
    "hidden = Dense(10, activation='relu', kernel_initializer='random_normal', use_bias=False)(flat)\n",
    "#bn_hidden = BatchNormalization()(hidden)\n",
    "#hidden_2 = Dense(50, activation='relu', kernel_initializer='random_normal', use_bias=False)(bn_hidden)\n",
    "bn_final = BatchNormalization()(hidden)\n",
    "\n",
    "out = Dense(1, use_bias=False)(bn_final)\n",
    "\n",
    "q_model = Model(inputs=[inp], outputs=out)\n",
    "q_model.compile(loss=losses.mean_squared_error, optimizer='adam', metrics=['mean_squared_error'])\n"
   ]
  },
  {
   "cell_type": "code",
   "execution_count": 11,
   "metadata": {},
   "outputs": [
    {
     "name": "stdout",
     "output_type": "stream",
     "text": [
      "Train on 14241 samples, validate on 1583 samples\n",
      "Epoch 1/100\n",
      "14241/14241 [==============================] - 0s 16us/step - loss: 0.0480 - mean_squared_error: 0.0480 - val_loss: 0.5951 - val_mean_squared_error: 0.5951\n",
      "Epoch 2/100\n",
      "14241/14241 [==============================] - 0s 15us/step - loss: 0.0412 - mean_squared_error: 0.0412 - val_loss: 0.4541 - val_mean_squared_error: 0.4541\n",
      "\n",
      "Epoch 00002: val_loss improved from inf to 0.45406, saving model to ../models/v2_1_value.net\n",
      "Epoch 3/100\n",
      "14241/14241 [==============================] - 0s 15us/step - loss: 0.0361 - mean_squared_error: 0.0361 - val_loss: 0.5518 - val_mean_squared_error: 0.5518\n",
      "Epoch 4/100\n",
      "14241/14241 [==============================] - 0s 15us/step - loss: 0.0376 - mean_squared_error: 0.0376 - val_loss: 0.4465 - val_mean_squared_error: 0.4465\n",
      "\n",
      "Epoch 00004: val_loss improved from 0.45406 to 0.44653, saving model to ../models/v2_1_value.net\n",
      "Epoch 5/100\n",
      "14241/14241 [==============================] - 0s 15us/step - loss: 0.0326 - mean_squared_error: 0.0326 - val_loss: 0.4397 - val_mean_squared_error: 0.4397\n",
      "Epoch 6/100\n",
      "14241/14241 [==============================] - 0s 15us/step - loss: 0.0288 - mean_squared_error: 0.0288 - val_loss: 0.3771 - val_mean_squared_error: 0.3771\n",
      "\n",
      "Epoch 00006: val_loss improved from 0.44653 to 0.37706, saving model to ../models/v2_1_value.net\n",
      "Epoch 7/100\n",
      "14241/14241 [==============================] - 0s 15us/step - loss: 0.0279 - mean_squared_error: 0.0279 - val_loss: 0.3949 - val_mean_squared_error: 0.3949\n",
      "Epoch 8/100\n",
      "14241/14241 [==============================] - 0s 15us/step - loss: 0.0293 - mean_squared_error: 0.0293 - val_loss: 0.3913 - val_mean_squared_error: 0.3913\n",
      "\n",
      "Epoch 00008: val_loss did not improve from 0.37706\n",
      "Epoch 00008: early stopping\n"
     ]
    }
   ],
   "source": [
    "es = callbacks.EarlyStopping(monitor='val_loss', mode='min', verbose=1, patience=2)\n",
    "checkpoint = callbacks.ModelCheckpoint('../models/v2_1_value.net', monitor='val_loss', verbose=1, save_best_only=True, mode='min', period=2)\n",
    "callback_list = [es, checkpoint]\n",
    "\n",
    "with tf.device('/gpu:0'):\n",
    "    q_model.fit(x=np.array(q_features), \n",
    "                y=q_labels,\n",
    "                callbacks=callback_list,\n",
    "                shuffle=True,\n",
    "                epochs=100,\n",
    "                verbose=1,\n",
    "                batch_size=500,\n",
    "                validation_split=0.1)"
   ]
  },
  {
   "cell_type": "code",
   "execution_count": 8,
   "metadata": {},
   "outputs": [],
   "source": [
    "inp = Input(shape=(SIZE, SIZE, CHANNELS))\n",
    "\n",
    "conv_1 = Convolution2D(64, (3, 3), padding='same', activation='relu',\n",
    "                       kernel_initializer='random_normal', use_bias=False)(inp)\n",
    "bn2 = BatchNormalization()(conv_1)\n",
    "conv_2 = Convolution2D(64, (3, 3), padding='same', activation='relu',\n",
    "                       kernel_initializer='random_normal', use_bias=False)(bn2)\n",
    "bn3 = BatchNormalization()(conv_2)\n",
    "conv_3 = Convolution2D(64, (3, 3), padding='same', activation='relu',\n",
    "                       kernel_initializer='random_normal', use_bias=False)(bn3)\n",
    "bn4 = BatchNormalization()(conv_3)\n",
    "conv_4 = Convolution2D(32, (3, 3), padding='same', activation='relu',\n",
    "                       kernel_initializer='random_normal', use_bias=False)(bn4)\n",
    "bn5 = BatchNormalization()(conv_4)\n",
    "conv_5 = Convolution2D(16, (3, 3), padding='same', activation='relu',\n",
    "                       kernel_initializer='random_normal', use_bias=False)(bn5)\n",
    "bn6 = BatchNormalization()(conv_5)\n",
    "\n",
    "flat = Flatten()(bn6)\n",
    "\n",
    "hidden = Dense(SIZE ** 2, activation='relu', kernel_initializer='random_normal', use_bias=False)(flat)\n",
    "bn_final = BatchNormalization()(hidden)\n",
    "\n",
    "out = Dense(SIZE ** 2, activation='softmax')(bn_final)\n",
    "\n",
    "p_model = Model(inputs=[inp], outputs=out)\n",
    "p_model.compile(loss='sparse_categorical_crossentropy', optimizer='adam', metrics=['accuracy'])\n"
   ]
  },
  {
   "cell_type": "code",
   "execution_count": 10,
   "metadata": {},
   "outputs": [
    {
     "name": "stdout",
     "output_type": "stream",
     "text": [
      "Train on 14241 samples, validate on 1583 samples\n",
      "Epoch 1/100\n",
      "14241/14241 [==============================] - 0s 26us/step - loss: 2.3331 - acc: 0.4579 - val_loss: 4.5118 - val_acc: 0.0512\n",
      "Epoch 2/100\n",
      "14241/14241 [==============================] - 0s 25us/step - loss: 1.9667 - acc: 0.5634 - val_loss: 4.6398 - val_acc: 0.0486\n",
      "\n",
      "Epoch 00002: val_loss improved from inf to 4.63984, saving model to ../models/v2_1_policy.net\n",
      "Epoch 3/100\n",
      "14241/14241 [==============================] - 0s 25us/step - loss: 1.6456 - acc: 0.6510 - val_loss: 4.8251 - val_acc: 0.0632\n",
      "Epoch 00003: early stopping\n"
     ]
    }
   ],
   "source": [
    "es = callbacks.EarlyStopping(monitor='val_loss', mode='min', verbose=1, patience=2)\n",
    "checkpoint = callbacks.ModelCheckpoint('../models/v2_1_policy.net', monitor='val_loss', verbose=1, save_best_only=True, mode='min', period=2)\n",
    "callback_list = [es, checkpoint]\n",
    "\n",
    "with tf.device('/gpu:0'):\n",
    "    p_model.fit(x=np.array(p_features), \n",
    "                y=np.array(p_labels),\n",
    "                callbacks=callback_list,\n",
    "                shuffle=True,\n",
    "                epochs=100,\n",
    "                verbose=1,\n",
    "                batch_size=500,\n",
    "                validation_split=0.1)"
   ]
  },
  {
   "cell_type": "code",
   "execution_count": null,
   "metadata": {
    "collapsed": true
   },
   "outputs": [],
   "source": []
  }
 ],
 "metadata": {
  "kernelspec": {
   "display_name": "Python 3",
   "language": "python",
   "name": "python3"
  },
  "language_info": {
   "codemirror_mode": {
    "name": "ipython",
    "version": 3
   },
   "file_extension": ".py",
   "mimetype": "text/x-python",
   "name": "python",
   "nbconvert_exporter": "python",
   "pygments_lexer": "ipython3",
   "version": "3.6.5"
  }
 },
 "nbformat": 4,
 "nbformat_minor": 2
}
