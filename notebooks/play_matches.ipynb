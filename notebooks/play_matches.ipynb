{
 "cells": [
  {
   "cell_type": "code",
   "execution_count": 1,
   "metadata": {},
   "outputs": [
    {
     "name": "stderr",
     "output_type": "stream",
     "text": [
      "/opt/conda/anaconda/lib/python3.6/site-packages/h5py/__init__.py:36: FutureWarning: Conversion of the second argument of issubdtype from `float` to `np.floating` is deprecated. In future, it will be treated as `np.float64 == np.dtype(float).type`.\n",
      "  from ._conv import register_converters as _register_converters\n",
      "Using TensorFlow backend.\n"
     ]
    }
   ],
   "source": [
    "from datetime import datetime\n",
    "import dill\n",
    "\n",
    "from src.learner import pexp_mind\n",
    "from src.core.match import Match"
   ]
  },
  {
   "cell_type": "code",
   "execution_count": 2,
   "metadata": {},
   "outputs": [],
   "source": [
    "def make_pexp(size=9):\n",
    "    mind = pexp_mind.PExpMind(size=size, init=False, channels=4)\n",
    "    mind.load_net('../trained_models/9_4_4')\n",
    "    \n",
    "    def expanding_p(depth, p):\n",
    "        import numpy as np\n",
    "        return np.logical_or.reduce([\n",
    "            np.logical_and(depth < 2, p > -6),\n",
    "            np.logical_and(depth < 4, p > -4),\n",
    "            np.logical_and(depth < 6, p > -4),\n",
    "            np.logical_and(depth < np.inf, p > -3)\n",
    "        ])\n",
    "\n",
    "    def permissive_expansion(depth):\n",
    "        import numpy as np\n",
    "        if depth < 2:\n",
    "            return np.inf\n",
    "        if depth < 8:\n",
    "            return 5\n",
    "        return 3\n",
    "\n",
    "    mind.define_policies(expanding_p, permissive_expansion, convergence_count=5,\n",
    "                         alpha=0.2, q_exp_batch_size=size ** 2,\n",
    "                         p_exp_batch_size=size ** 3, required_depth=6, max_iters=20)\n",
    "    \n",
    "    return mind"
   ]
  },
  {
   "cell_type": "code",
   "execution_count": 3,
   "metadata": {},
   "outputs": [],
   "source": [
    "size = 9\n",
    "players_bc = sc.broadcast({\n",
    "    0: dill.dumps(make_pexp(size))\n",
    "})"
   ]
  },
  {
   "cell_type": "code",
   "execution_count": 4,
   "metadata": {},
   "outputs": [],
   "source": [
    "def play_game(player_index_1, player_index_2):\n",
    "    model_1 = dill.loads(players_bc.value[player_index_1])\n",
    "    \n",
    "    # don't load twice if we don't need to\n",
    "    if player_index_1 == player_index_2:\n",
    "        model_2 = model_1\n",
    "    else:\n",
    "        model_2 = dill.loads(players_bc.value[player_index_2])\n",
    "        \n",
    "    match = Match(model_1, model_2, trivialize=False)\n",
    "    return match.play()\n",
    "\n",
    "now = datetime.now().strftime(\"%Y-%m-%d-%H-%M\")\n",
    "filepath = \"gs://itd-aia-ds-dproc-staging/q-gomoku/games\" + now\n",
    "for i in range(1):\n",
    "    num_games = 100\n",
    "    sc.parallelize([(i, (0, 0)) for i in range(num_games)]).repartition(num_games) \\\n",
    "                    .partitionBy(num_games, lambda x : x) \\\n",
    "                    .map(lambda x : (play_game(x[1][0], x[1][1]), )).toDF(['gamestring']) \\\n",
    "                    .write.parquet(filepath, mode='overwrite')"
   ]
  },
  {
   "cell_type": "code",
   "execution_count": 13,
   "metadata": {},
   "outputs": [
    {
     "name": "stdout",
     "output_type": "stream",
     "text": [
      "gs://itd-aia-ds-dproc-staging/q-gomoku/\r\n",
      "gs://itd-aia-ds-dproc-staging/q-gomoku/.gitignore\r\n",
      "gs://itd-aia-ds-dproc-staging/q-gomoku/LICENSE\r\n",
      "gs://itd-aia-ds-dproc-staging/q-gomoku/Makefile\r\n",
      "gs://itd-aia-ds-dproc-staging/q-gomoku/README\r\n",
      "gs://itd-aia-ds-dproc-staging/q-gomoku/__init__.py\r\n",
      "gs://itd-aia-ds-dproc-staging/q-gomoku/environment.yml\r\n",
      "gs://itd-aia-ds-dproc-staging/q-gomoku/fs_wait_train.py\r\n",
      "gs://itd-aia-ds-dproc-staging/q-gomoku/.git/\r\n",
      "gs://itd-aia-ds-dproc-staging/q-gomoku/.idea/\r\n",
      "gs://itd-aia-ds-dproc-staging/q-gomoku/conf/\r\n",
      "gs://itd-aia-ds-dproc-staging/q-gomoku/games2019-06-20-00-00-00/\r\n",
      "gs://itd-aia-ds-dproc-staging/q-gomoku/games2019-06-20-00:00:00/\r\n",
      "gs://itd-aia-ds-dproc-staging/q-gomoku/games2019-06-20-06-37-51/\r\n",
      "gs://itd-aia-ds-dproc-staging/q-gomoku/games2019-06-20-06-43-09/\r\n",
      "gs://itd-aia-ds-dproc-staging/q-gomoku/games2019-06-20-16-05-49/\r\n",
      "gs://itd-aia-ds-dproc-staging/q-gomoku/games2019-06-20-21-30/\r\n",
      "gs://itd-aia-ds-dproc-staging/q-gomoku/games_1/\r\n",
      "gs://itd-aia-ds-dproc-staging/q-gomoku/notebooks/\r\n",
      "gs://itd-aia-ds-dproc-staging/q-gomoku/src/\r\n",
      "gs://itd-aia-ds-dproc-staging/q-gomoku/trained_models/\r\n"
     ]
    }
   ],
   "source": [
    "!gsutil ls gs://itd-aia-ds-dproc-staging/q-gomoku/"
   ]
  },
  {
   "cell_type": "code",
   "execution_count": 15,
   "metadata": {},
   "outputs": [
    {
     "data": {
      "text/plain": [
       "[Row(gamestring='{\"initial_state\": \"9.120000000120000000120000000120000000000000000000000000000000000000000000000000000.1\", \"moves\": [[4, 0]], \"winning_player\": 1, \"q_assessments\": [[-0.02823619917035103, 1.0]]}')]"
      ]
     },
     "execution_count": 15,
     "metadata": {},
     "output_type": "execute_result"
    }
   ],
   "source": [
    "spark.read.parquet(\"gs://itd-aia-ds-dproc-staging/q-gomoku/games2019-06-20-21-30/\").collect()"
   ]
  },
  {
   "cell_type": "code",
   "execution_count": null,
   "metadata": {},
   "outputs": [],
   "source": []
  }
 ],
 "metadata": {
  "kernelspec": {
   "display_name": "Python 3",
   "language": "python",
   "name": "python3"
  },
  "language_info": {
   "codemirror_mode": {
    "name": "ipython",
    "version": 3
   },
   "file_extension": ".py",
   "mimetype": "text/x-python",
   "name": "python",
   "nbconvert_exporter": "python",
   "pygments_lexer": "ipython3",
   "version": "3.6.5"
  }
 },
 "nbformat": 4,
 "nbformat_minor": 2
}
