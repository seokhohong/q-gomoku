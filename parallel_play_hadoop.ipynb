{
 "cells": [
  {
   "cell_type": "code",
   "execution_count": null,
   "metadata": {},
   "outputs": [],
   "source": [
    "import copy\n",
    "\n",
    "import numpy as np\n",
    "from keras.layers import Input, Convolution2D, Dense, Dropout, Flatten, concatenate, BatchNormalization\n",
    "from keras.models import Model  # basic class for specifying and training a neural network\n",
    "from keras import losses\n",
    "from keras.callbacks import EarlyStopping\n",
    "from keras import backend as K\n",
    "import keras\n",
    "import tensorflow as tf\n",
    "from sortedcontainers import SortedSet\n",
    "\n",
    "import core\n",
    "import learner\n",
    "from learner.pqmind import PQMind\n",
    "from core.detail_board import Board\n",
    "import random\n",
    "\n",
    "import cProfile\n",
    "\n",
    "random_state = np.random.RandomState(42)\n",
    "\n",
    "MIN_Q = -1\n",
    "MAX_Q = 1\n",
    "\n",
    "import importlib\n",
    "importlib.reload(learner)\n",
    "importlib.reload(core)"
   ]
  },
  {
   "cell_type": "code",
   "execution_count": null,
   "metadata": {},
   "outputs": [],
   "source": [
    "def test_imports():\n",
    "    import site\n",
    "    import core\n",
    "    import tensorflow\n",
    "    return site.getsitepackages()\n",
    "\n",
    "sc.parallelize([1]).map(lambda x : test_imports()).collect()"
   ]
  },
  {
   "cell_type": "code",
   "execution_count": null,
   "metadata": {
    "collapsed": true
   },
   "outputs": [],
   "source": [
    "def play_a_game(i):\n",
    "    \n",
    "    mind = PQMind(size=SIZE, alpha=0.2, init=False, channels=CHANNELS)\n",
    "    mind.value_est.set_weights(q_model_bc.value)\n",
    "    mind.policy_est.set_weights(p_model_bc.value)\n",
    "    \n",
    "    round_board = Board(size=SIZE, win_chain_length=WIN_CHAIN_LENGTH)\n",
    "    \n",
    "    # randomize the board a bit\n",
    "    for j in range(random.randint(0, int((SIZE ** 2) / 3.0))):\n",
    "        round_board.make_random_move()\n",
    "    \n",
    "    current_player = round_board.player_to_move\n",
    "    while True:\n",
    "        result = mind.make_move(round_board,\n",
    "                                as_player=current_player,\n",
    "                                retrain=False,\n",
    "                                epsilon=0.1,\n",
    "                                max_depth=25,\n",
    "                                k=k_function(i),\n",
    "                                max_iters=max_iter_function(i),\n",
    "                                )\n",
    "        print(round_board.pprint())\n",
    "        current_player = -current_player\n",
    "        if result:\n",
    "            break\n",
    "            \n",
    "    return mind.train_vectors, mind.train_p, mind.train_q"
   ]
  },
  {
   "cell_type": "code",
   "execution_count": null,
   "metadata": {
    "collapsed": true
   },
   "outputs": [],
   "source": [
    "\n",
    "def max_iter_function(i):\n",
    "    # the first iteration has to teach the model that most positions aren't game ending\n",
    "    if i == 0:\n",
    "        return 1\n",
    "    if i < 5:\n",
    "        return 2\n",
    "    if i < 10:\n",
    "        return 10\n",
    "    return 20\n",
    "\n",
    "def k_function(i):\n",
    "    return (SIZE ** 2)\n",
    "    "
   ]
  },
  {
   "cell_type": "code",
   "execution_count": null,
   "metadata": {},
   "outputs": [],
   "source": [
    "SIZE = 7\n",
    "WIN_CHAIN_LENGTH = 5\n",
    "CHANNELS = 20\n",
    "EPOCHS = 100\n",
    "BATCH_SIZE = 32\n",
    "GAME_BATCH = 500\n",
    "\n",
    "PATIENCE = 5\n",
    "\n",
    "mind = PQMind(size=SIZE, alpha=0.2, init=True, channels=CHANNELS)\n",
    "#mind.load_net('gomoku/models/distributed_7_with_19chain_2')\n",
    "q_model = mind.value_est\n",
    "p_model = mind.policy_est\n",
    "\n",
    "def distributed_play(i):\n",
    "\n",
    "    collected = sc.parallelize(zip(range(GAME_BATCH), range(GAME_BATCH))).partitionBy(GAME_BATCH, lambda x: x) \\\n",
    "                    .map(lambda x : play_a_game(i)).collect()\n",
    "\n",
    "    train_vectors = []\n",
    "    train_p = []\n",
    "    train_q = []\n",
    "\n",
    "    for vector, p, q in collected:\n",
    "        train_vectors.extend(vector)\n",
    "        if i < 2:\n",
    "            for x in q:\n",
    "                if abs(x) > 0.999:\n",
    "                    train_q.append(x)\n",
    "                else:\n",
    "                    train_q.append(0)\n",
    "        else:\n",
    "            train_q.extend(q)\n",
    "        train_p.extend(p)\n",
    "\n",
    "    print(train_q[:100])\n",
    "\n",
    "    train_inputs = []\n",
    "    for vector, whose_move in train_vectors:\n",
    "        train_inputs.append(vector.reshape(SIZE, SIZE, CHANNELS))\n",
    "\n",
    "    train_inputs = np.array(train_inputs)\n",
    "\n",
    "    if len(train_vectors) > 0:\n",
    "        q_model.fit(x=train_inputs,\n",
    "                    y=np.array(train_q),\n",
    "                    shuffle=False,\n",
    "                    callbacks=[EarlyStopping(patience=PATIENCE)],\n",
    "                    validation_split=0.1,\n",
    "                    batch_size=BATCH_SIZE,\n",
    "                    epochs=EPOCHS)\n",
    "        # doesn't always need to train P\n",
    "        if max_iter_function(i) > 3:\n",
    "            p_model.fit(x=train_inputs,\n",
    "                        y=np.array(train_p),\n",
    "                        shuffle=False,\n",
    "                        callbacks=[EarlyStopping(patience=PATIENCE)],\n",
    "                        validation_split=0.1,\n",
    "                        batch_size=BATCH_SIZE,\n",
    "                        epochs=EPOCHS)\n",
    "\n",
    "    print('Num Train Vectors', len(train_vectors))\n",
    "\n",
    "\n"
   ]
  },
  {
   "cell_type": "code",
   "execution_count": null,
   "metadata": {},
   "outputs": [],
   "source": [
    "epochs = 5000\n",
    "for i in range(epochs):\n",
    "    q_model_bc = sc.broadcast(copy.deepcopy(q_model.get_weights()))\n",
    "    p_model_bc = sc.broadcast(copy.deepcopy(p_model.get_weights()))\n",
    "    distributed_play(i)\n",
    "    if i % 2 == 0:\n",
    "        play_a_game(i)"
   ]
  },
  {
   "cell_type": "code",
   "execution_count": null,
   "metadata": {},
   "outputs": [],
   "source": [
    "mind.value_est.set_weights(q_model.get_weights())\n",
    "mind.policy_est.set_weights(p_model.get_weights())\n",
    "mind.save('gomoku/models/distributed_7_with_19chain_2')"
   ]
  },
  {
   "cell_type": "code",
   "execution_count": null,
   "metadata": {},
   "outputs": [],
   "source": [
    "play_a_game(55)"
   ]
  },
  {
   "cell_type": "code",
   "execution_count": null,
   "metadata": {},
   "outputs": [],
   "source": [
    "mind = PQMind(size=SIZE, alpha=0.2, init=True, channels=CHANNELS)\n",
    "mind.value_est.set_weights(q_model_bc.value)\n",
    "mind.policy_est.set_weights(p_model_bc.value)\n",
    "\n",
    "round_board = Board(size=SIZE, win_chain_length=WIN_CHAIN_LENGTH)\n",
    "\n",
    "# randomize the board a bit\n",
    "for j in range(random.randint(0, int((SIZE ** 2) / 3.0))):\n",
    "    round_board.make_random_move()\n",
    "\n",
    "current_player = round_board.player_to_move\n",
    "while True:\n",
    "    result = mind.make_move(round_board,\n",
    "                            as_player=current_player,\n",
    "                            retrain=False,\n",
    "                            epsilon=0.1,\n",
    "                            max_depth=25,\n",
    "                            k=SIZE ** 2,\n",
    "                            max_iters=20,\n",
    "                            )\n",
    "    print(round_board.pprint())\n",
    "    current_player = -current_player\n",
    "    if result:\n",
    "        break\n",
    "\n",
    "mind.value_est.summary()"
   ]
  },
  {
   "cell_type": "code",
   "execution_count": null,
   "metadata": {},
   "outputs": [],
   "source": [
    "mind.train_vectors"
   ]
  },
  {
   "cell_type": "code",
   "execution_count": null,
   "metadata": {},
   "outputs": [],
   "source": [
    "def debug_game():\n",
    "    mind = PQMind(size=7, alpha=0.2, init=True, channels=4)\n",
    "    assert()\n",
    "\n",
    "sc.parallelize(zip(range(1), range(1))).map(lambda x: debug_game()).collect()"
   ]
  },
  {
   "cell_type": "code",
   "execution_count": null,
   "metadata": {},
   "outputs": [],
   "source": [
    "q_model_bc = sc.broadcast(copy.deepcopy(q_model.get_weights()))\n",
    "p_model_bc = sc.broadcast(copy.deepcopy(p_model.get_weights()))\n",
    "collected = sc.parallelize(zip(range(200), range(200))).partitionBy(200, lambda x: x) \\\n",
    "                .map(lambda x : play_a_game(0)).collect()\n",
    "\n"
   ]
  },
  {
   "cell_type": "code",
   "execution_count": null,
   "metadata": {},
   "outputs": [],
   "source": [
    "mind = PQMind(size=SIZE, alpha=0.2, init=True, channels=CHANNELS)\n",
    "\n",
    "#mind.load_net('gomoku/models/distributed_7_with_19chain_2')\n",
    "q_model = mind.value_est\n",
    "p_model = mind.policy_est\n",
    "\n",
    "train_vectors = []\n",
    "train_p = []\n",
    "train_q = []\n",
    "\n",
    "for vector, p, q in collected:\n",
    "    train_vectors.extend(vector)\n",
    "    train_q.extend(q)\n",
    "    train_p.extend(p)\n",
    "    \n",
    "train_inputs = []\n",
    "for vector, whose_move in train_vectors:\n",
    "    train_inputs.append(vector.reshape(SIZE, SIZE, CHANNELS))\n",
    "\n",
    "train_inputs = np.array(train_inputs)"
   ]
  },
  {
   "cell_type": "code",
   "execution_count": null,
   "metadata": {},
   "outputs": [],
   "source": [
    "train_q[232]"
   ]
  },
  {
   "cell_type": "code",
   "execution_count": null,
   "metadata": {},
   "outputs": [],
   "source": [
    "train_inputs[232, :, :, 1]"
   ]
  },
  {
   "cell_type": "code",
   "execution_count": null,
   "metadata": {},
   "outputs": [],
   "source": [
    "train_inputs[232, :, :, :3]"
   ]
  },
  {
   "cell_type": "code",
   "execution_count": null,
   "metadata": {
    "scrolled": true
   },
   "outputs": [],
   "source": [
    "\n",
    "\n",
    "if len(train_vectors) > 0:\n",
    "    q_model.fit(x=train_inputs,\n",
    "                y=np.array(train_q),\n",
    "                shuffle=False,\n",
    "                callbacks=[EarlyStopping(patience=PATIENCE)],\n",
    "                validation_split=0.1,\n",
    "                batch_size=BATCH_SIZE,\n",
    "                epochs=EPOCHS)\n",
    "    # doesn't always need to train P\n",
    "    if max_iter_function(i) > 3:\n",
    "        p_model.fit(x=train_inputs,\n",
    "                    y=np.array(train_p),\n",
    "                    shuffle=False,\n",
    "                    callbacks=[EarlyStopping(patience=PATIENCE)],\n",
    "                    validation_split=0.1,\n",
    "                    batch_size=BATCH_SIZE,\n",
    "                    epochs=EPOCHS)\n",
    "\n",
    "print('Num Train Vectors', len(train_vectors))"
   ]
  },
  {
   "cell_type": "code",
   "execution_count": null,
   "metadata": {},
   "outputs": [],
   "source": [
    "np.savez('gomoku/models/7_20channel.npz', train_inputs=train_inputs, train_p=train_p, train_q=train_q)"
   ]
  },
  {
   "cell_type": "code",
   "execution_count": null,
   "metadata": {
    "collapsed": true
   },
   "outputs": [],
   "source": [
    "from tensorflow.python.client import device_lib\n",
    "\n",
    "def get_available_gpus():\n",
    "    local_device_protos = device_lib.list_local_devices()\n",
    "    return [x.name for x in local_device_protos if x.device_type == 'GPU']"
   ]
  },
  {
   "cell_type": "code",
   "execution_count": null,
   "metadata": {},
   "outputs": [],
   "source": [
    "get_available_gpus()"
   ]
  },
  {
   "cell_type": "code",
   "execution_count": null,
   "metadata": {
    "collapsed": true
   },
   "outputs": [],
   "source": []
  }
 ],
 "metadata": {
  "kernelspec": {
   "display_name": "Python [hseokho.q-gomoku]",
   "language": "python",
   "name": "hseokho.q-gomoku"
  },
  "language_info": {
   "codemirror_mode": {
    "name": "ipython",
    "version": 3
   },
   "file_extension": ".py",
   "mimetype": "text/x-python",
   "name": "python",
   "nbconvert_exporter": "python",
   "pygments_lexer": "ipython3",
   "version": "3.6.6"
  }
 },
 "nbformat": 4,
 "nbformat_minor": 2
}