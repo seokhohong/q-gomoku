{
 "cells": [
  {
   "cell_type": "code",
   "execution_count": null,
   "metadata": {},
   "outputs": [],
   "source": [
    "import numpy as np\n",
    "from keras.layers import Input, Convolution2D, Dense, Dropout, Flatten, concatenate, BatchNormalization\n",
    "from keras.models import Model  # basic class for specifying and training a neural network\n",
    "from keras import losses\n",
    "import keras\n",
    "\n",
    "import tensorflow as tf\n",
    "\n",
    "import os.path\n",
    "import time"
   ]
  },
  {
   "cell_type": "code",
   "execution_count": null,
   "metadata": {},
   "outputs": [],
   "source": [
    "VECTORS_NPZ = 'gomoku/models/waiting_vectors.npz'\n",
    "WEIGHT_NPZ = \"gomoku/models/waiting_weights.npz\""
   ]
  },
  {
   "cell_type": "code",
   "execution_count": null,
   "metadata": {},
   "outputs": [],
   "source": [
    "def wait_to_read(file_path):\n",
    "    while not os.path.exists(file_path):\n",
    "        time.sleep(1)\n",
    "\n",
    "    if os.path.isfile(file_path):\n",
    "        return np.load(file_path)\n",
    "    else:\n",
    "        raise ValueError(\"%s isn't a file!\" % file_path)"
   ]
  },
  {
   "cell_type": "code",
   "execution_count": null,
   "metadata": {},
   "outputs": [],
   "source": [
    "def train_model(npz):\n",
    "    train_p_vectors = npz['train_p_vectors']\n",
    "    train_q_vectors = npz['train_q_vectors']\n",
    "    train_p = npz['train_p']\n",
    "    train_q = npz['train_q']\n",
    "    \n",
    "    print('Num p': len(train_p_vectors))\n",
    "    print('Num q': len(train_q_vectors))\n",
    "\n",
    "    with(tf.device('/gpu:0')):\n",
    "        if len(train_vectors) > 0:\n",
    "            q_model.fit(x=fit_train_inputs,\n",
    "                        y=np.array(fit_train_q),\n",
    "                        shuffle=True,\n",
    "                        callbacks=[EarlyStopping(patience=PATIENCE)],\n",
    "                        validation_split = 0.1,\n",
    "                        batch_size=BATCH_SIZE,\n",
    "                        epochs=EPOCHS)\n",
    "            # doesn't always need to train P\n",
    "            p_model.fit(x=fit_train_inputs,\n",
    "                        y=np.array(fit_train_p),\n",
    "                        shuffle=True,\n",
    "                        callbacks=[EarlyStopping(patience=PATIENCE)],\n",
    "                        validation_data = 0.1,\n",
    "                        batch_size=BATCH_SIZE,\n",
    "                        epochs=EPOCHS)\n",
    "            \n",
    "    npz.savez(WEIGHTS_NPZ, q_weights=q_model.get_weights(), p_weights=p_model.get_weights())"
   ]
  },
  {
   "cell_type": "code",
   "execution_count": null,
   "metadata": {},
   "outputs": [],
   "source": [
    "while True:\n",
    "    npz = wait_to_read(VECTORS_NPZ)\n",
    "    train_model(npz)"
   ]
  },
  {
   "cell_type": "code",
   "execution_count": null,
   "metadata": {},
   "outputs": [],
   "source": []
  }
 ],
 "metadata": {
  "kernelspec": {
   "display_name": "Python 3",
   "language": "python",
   "name": "python3"
  },
  "language_info": {
   "codemirror_mode": {
    "name": "ipython",
    "version": 3
   },
   "file_extension": ".py",
   "mimetype": "text/x-python",
   "name": "python",
   "nbconvert_exporter": "python",
   "pygments_lexer": "ipython3",
   "version": "3.6.4"
  }
 },
 "nbformat": 4,
 "nbformat_minor": 2
}