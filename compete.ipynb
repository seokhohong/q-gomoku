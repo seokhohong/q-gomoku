{
 "cells": [
  {
   "cell_type": "code",
   "execution_count": null,
   "metadata": {},
   "outputs": [],
   "source": [
    "from gomoku.learner import pexp_mind\n",
    "from gomoku import core, models\n",
    "from copy import deepcopy\n",
    "from collections import defaultdict\n",
    "import random\n",
    "from core.board import Board\n",
    "\n",
    "from pyspark.sql import Row\n",
    "    \n",
    "SIZE = 9\n",
    "CHANNELS = 4\n",
    "\n",
    "def versus(mind1_name, mind2_name, flipped):\n",
    "    mind1 = pexp_mind.PExpMind(size=SIZE, init=False, channels=CHANNELS)\n",
    "    mind1.load_net('../models/9_4_4')\n",
    "\n",
    "    mind2 = pexp_mind.PExpMind(size=SIZE, init=False, channels=CHANNELS)\n",
    "    mind2.load_net('../models/9_8_14_18')\n",
    "\n",
    "    board = Board(size=SIZE, win_chain_length=5)\n",
    "    \n",
    "    # make a random move for first player\n",
    "    for i in range(random.randint(0, int(SIZE * 2.5))):\n",
    "        tourney_board.make_random_move()\n",
    "    \n",
    "    def expanding_p(depth, p):\n",
    "        return np.logical_or(np.logical_or(\n",
    "            np.logical_and(depth < 4, p > -5),\n",
    "            np.logical_and(depth < 6, p > -4),\n",
    "            np.logical_and(depth < 8, p > -4)),\n",
    "            np.logical_and(depth < np.inf, p > -3)\n",
    "        )\n",
    "\n",
    "    def permissive_expansion(depth):\n",
    "        if depth < 2:\n",
    "            return np.inf\n",
    "        if depth < 8:\n",
    "            return 5\n",
    "        return 3\n",
    "        \n",
    "    players = {}\n",
    "    players[1] = mind1\n",
    "    players[-1] = mind2\n",
    "    board_strings = []\n",
    "\n",
    "    while True:\n",
    "        result = players[tourney_board.player_to_move].make_move(tourney_board, \n",
    "                                                                 as_player=tourney_board.player_to_move,\n",
    "                                                                 retrain=False, \n",
    "                                                                 verbose=False, \n",
    "                                                                 epsilon=0.01, \n",
    "                                                                 max_depth=20,\n",
    "                                                                 k=SIZE**2,\n",
    "                                                                 max_iters=20)\n",
    "        board_strings.append(board.pprint())\n",
    "        \n",
    "        if result:\n",
    "            if tourney_board.game_won():\n",
    "                wins[-tourney_board.player_to_move] += 1\n",
    "            else:\n",
    "                draws += 1\n",
    "            break\n",
    "\n",
    "    return Row(**{'boards' : board_strings, \n",
    "                  'wins_1': wins[1], \n",
    "                  'wins_2' : wins[-1], \n",
    "                  'draws' : draws, \n",
    "                  'flipped' : flipped})\n",
    "\n",
    "SIZE=5\n",
    "\n",
    "\n",
    "mind1 = pqmind.PQMind(size=SIZE, alpha=0.1, init=False)\n",
    "mind1.load_net('gomoku/gomoku/models/distributed_5')\n",
    "#mind2.load('models/9_9_q_v2_5.net', 'models/9_9_p_v2_5.net')\n",
    "\n",
    "mind2 = pqmind.PQMind(size=SIZE, alpha=0.1, init=False)\n",
    "mind2.load_net('gomoku/gomoku/models/distributed_5_bn')\n",
    "\n",
    "mind1_name = '1_conv'\n",
    "mind2_name = '3_conv_bn'\n",
    "\n",
    "broadcast_net_bc = {}\n",
    "broadcast_net_bc[mind1_name] = sc.broadcast((mind1.value_est.get_weights(), mind1.policy_est.get_weights()))\n",
    "broadcast_net_bc[mind2_name] = sc.broadcast((mind2.value_est.get_weights(), mind2.policy_est.get_weights()))\n",
    "\n",
    "rounds = 50\n",
    "\n",
    "df = sc.parallelize([(mind1_name, mind2_name, True)] * rounds) \\\n",
    "        .union(sc.parallelize([(mind2_name, mind1_name, False)] * rounds)) \\\n",
    "        .map(lambda x : versus(x[0], x[1], x[2])).toDF()\n",
    "\n",
    "\n",
    "    #print('Mind 1 Wins / Mind 2 Wins / Draws', wins[1], wins[-1], draws)"
   ]
  },
  {
   "cell_type": "code",
   "execution_count": null,
   "metadata": {},
   "outputs": [],
   "source": [
    "sc.parallelize(zip(range(400), range(400))).partitionBy(400, lambda x: x).glom().collect()"
   ]
  },
  {
   "cell_type": "code",
   "execution_count": null,
   "metadata": {},
   "outputs": [],
   "source": [
    "sc.parallelize([(mind1_name, mind2_name, True)] * rounds) \\\n",
    "        .union(sc.parallelize([(mind2_name, mind1_name, False)] * rounds)).take(10)"
   ]
  },
  {
   "cell_type": "code",
   "execution_count": null,
   "metadata": {},
   "outputs": [],
   "source": [
    "from gomoku import models"
   ]
  },
  {
   "cell_type": "code",
   "execution_count": null,
   "metadata": {},
   "outputs": [],
   "source": [
    "models.loader"
   ]
  },
  {
   "cell_type": "code",
   "execution_count": null,
   "metadata": {
    "collapsed": true
   },
   "outputs": [],
   "source": []
  }
 ],
 "metadata": {
  "kernelspec": {
   "display_name": "Python [hseokho.q-gomoku]",
   "language": "python",
   "name": "hseokho.q-gomoku"
  },
  "language_info": {
   "codemirror_mode": {
    "name": "ipython",
    "version": 3
   },
   "file_extension": ".py",
   "mimetype": "text/x-python",
   "name": "python",
   "nbconvert_exporter": "python",
   "pygments_lexer": "ipython3",
   "version": "3.6.6"
  }
 },
 "nbformat": 4,
 "nbformat_minor": 2
}